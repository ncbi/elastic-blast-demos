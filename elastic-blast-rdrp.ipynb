{
 "cells": [
  {
   "cell_type": "markdown",
   "metadata": {},
   "source": [
    "# Use Elastic-BLAST to Find RNA viruses in a metagenomic sample\n",
    "\n",
    "In this notebook we will try to find RNA virus sequences in a sequenced sample ... "
   ]
  },
  {
   "cell_type": "markdown",
   "metadata": {},
   "source": [
    "### Requirements\n",
    "Please, see the [requirements.txt](https://github.com/boratyng/elastic-blast-notebook/blob/main/requirements.txt) file for required python packages."
   ]
  },
  {
   "cell_type": "code",
   "execution_count": 1,
   "metadata": {},
   "outputs": [],
   "source": [
    "import os\n",
    "from uuid import uuid4\n",
    "import pandas as pd\n",
    "import matplotlib\n",
    "import matplotlib.pyplot as plt\n",
    "import seaborn as sns\n",
    "%matplotlib inline"
   ]
  },
  {
   "cell_type": "markdown",
   "metadata": {},
   "source": [
    "## Set up AWS credentials\n",
    "You need to provide credentials for your AWS user account so that Elastic-BLAST can use cloud resources. Generating and providing user credentials is described here: https://docs.aws.amazon.com/cli/latest/userguide/cli-configure-quickstart.html. There are two steps to this process:\n",
    "1. Create a key pair via AWS console: https://console.aws.amazon.com/iam/\n",
    "1. Paste AWS access key and AWS secret access key in the code below (remember to use quotes as these are python strings)\n",
    "\n",
    "Note that these keys authenticate your AWS account and anyone who has them has access to your account. We recommend creating new keys for working with this notebook and inactivating them when you are done."
   ]
  },
  {
   "cell_type": "code",
   "execution_count": null,
   "metadata": {},
   "outputs": [],
   "source": [
    "os.environ['AWS_ACCESS_KEY_ID'] =\n",
    "os.environ['AWS_SECRET_ACCESS_KEY'] =\n",
    "os.environ['AWS_DEFAULT_REGION'] = 'us-east-1'"
   ]
  },
  {
   "cell_type": "markdown",
   "metadata": {},
   "source": [
    "## Create results bucket (if one does not exist)\n",
    "Elastic-BLAST saves results in a cloud bucket. If you already have a cloud bucket in AWS, you can just provide its name."
   ]
  },
  {
   "cell_type": "markdown",
   "metadata": {},
   "source": [
    "### Name the results bucket\n",
    "Select a name for your results bucket or provide your bucket name. Please, remember that bucket names must be  globally unique. You can either edit _YOURNAME_ variable or change value of _RESULTS_BUCKET_ variable."
   ]
  },
  {
   "cell_type": "code",
   "execution_count": 98,
   "metadata": {},
   "outputs": [
    {
     "name": "stdout",
     "output_type": "stream",
     "text": [
      "Your results bucket: s3://elasticblast-7d373dbc\n"
     ]
    }
   ],
   "source": [
    "YOURNAME = str(uuid4())[:8]\n",
    "RESULTS_BUCKET = f'elasticblast-{YOURNAME}'\n",
    "print(f'Your results bucket: s3://{RESULTS_BUCKET}')"
   ]
  },
  {
   "cell_type": "markdown",
   "metadata": {},
   "source": [
    "### Create results bucket\n",
    "Skip if the bucket already exists."
   ]
  },
  {
   "cell_type": "code",
   "execution_count": null,
   "metadata": {},
   "outputs": [],
   "source": [
    "!aws s3 mb s3://{RESULTS_BUCKET}"
   ]
  },
  {
   "cell_type": "markdown",
   "metadata": {},
   "source": [
    "## Optional: Enable Elastic-BLAST Auto-shutdown feature\n",
    "This feature enables ElasticBLAST to monitor its status and shutdown cloud resources in the event of failures or successful search completion. It needs to be done only once per AWS user. If this feature is not enables you will need to run `elastic-blast delete` to delete cloud resources. Please, see https://blast.ncbi.nlm.nih.gov/doc/elastic-blast/janitor.html for more information. "
   ]
  },
  {
   "cell_type": "code",
   "execution_count": null,
   "metadata": {},
   "outputs": [],
   "source": [
    "!sed -i~ -e '/export PATH/d' $(which aws-create-elastic-blast-janitor-role.sh)\n",
    "!aws-create-elastic-blast-janitor-role.sh"
   ]
  },
  {
   "cell_type": "markdown",
   "metadata": {},
   "source": [
    "## Elastic-BLAST config\n",
    "For easier code management we will assign Elastic-BLAST configuration file name to the variable `conf_file`."
   ]
  },
  {
   "cell_type": "code",
   "execution_count": 3,
   "metadata": {},
   "outputs": [],
   "source": [
    "conf_file = 'JAIJZY.ini'"
   ]
  },
  {
   "cell_type": "markdown",
   "metadata": {},
   "source": [
    "Below is the contents of Elastic-BLAST configuration file, and running the cell below will write it to file `JAIJZY.ini`. Elastic-BLAST will do a BLASTX search for query sequences stored in `s3://elasticblast-test/queries/JAIJZY01.1.fsa_nt.gz` against the database in `s3://elasticblast-test/db/wolf18/RNAvirome.S2.RDRP`."
   ]
  },
  {
   "cell_type": "code",
   "execution_count": 5,
   "metadata": {},
   "outputs": [
    {
     "name": "stdout",
     "output_type": "stream",
     "text": [
      "Writing JAIJZY.ini\n"
     ]
    }
   ],
   "source": [
    "%%writefile {conf_file}\n",
    "\n",
    "[cloud-provider]\n",
    "aws-region = us-east-1\n",
    "\n",
    "[cluster]\n",
    "num-nodes = 1\n",
    "\n",
    "[blast]\n",
    "program = blastx\n",
    "db = s3://elasticblast-test/db/wolf18/RNAvirome.S2.RDRP\n",
    "queries = s3://elasticblast-test/queries/JAIJZY01.1.fsa_nt.gz\n",
    "options = -task blastx-fast -evalue 0.01 -outfmt \"7 std qcovs sskingdoms ssciname\""
   ]
  },
  {
   "cell_type": "markdown",
   "metadata": {},
   "source": [
    "## Submit Elastic-BLAST search\n",
    "Run the cell below to submit Elastic-BLAST search. It will take a few minutes."
   ]
  },
  {
   "cell_type": "code",
   "execution_count": 9,
   "metadata": {},
   "outputs": [
    {
     "name": "stdout",
     "output_type": "stream",
     "text": [
      "awslimitchecker 12.0.0 is AGPL-licensed free software; all users have a right to the full source code of this version. See <https://github.com/jantman/awslimitchecker>\n",
      "WARNING: Using gp2 30GB EBS root disk because locally attached SSDs will be used\n"
     ]
    }
   ],
   "source": [
    "!elastic-blast submit --cfg {conf_file} --results s3://{RESULTS_BUCKET}"
   ]
  },
  {
   "cell_type": "markdown",
   "metadata": {},
   "source": [
    "## Check search status\n",
    "The cell below checks search status. Elastic-BLAST splits query sequences into parts. _elastic-blast status_ command shows how many of these parts are pending, running, completed, or completed. When the whole search is done you will see only the message: \"Your Elastic-BLAST search succeeded ...\" or \"Your Elastic-BLAST search failed ...\""
   ]
  },
  {
   "cell_type": "code",
   "execution_count": null,
   "metadata": {},
   "outputs": [],
   "source": [
    "!elastic-blast status --results s3://{RESULTS_BUCKET}"
   ]
  },
  {
   "cell_type": "markdown",
   "metadata": {},
   "source": [
    "## Wait until the search is done\n",
    "Run the cell below to wait until the search is done. The cell will keep working until Elastic-BLAST search is complete."
   ]
  },
  {
   "cell_type": "code",
   "execution_count": null,
   "metadata": {},
   "outputs": [],
   "source": [
    "!elastic-blast status --results s3://{RESULTS_BUCKET} --wait"
   ]
  },
  {
   "cell_type": "markdown",
   "metadata": {},
   "source": [
    "## Download results\n",
    "Elastic-BLAST search is done and results are placed in your results bucket. Now we need to download the results to analyze then."
   ]
  },
  {
   "cell_type": "code",
   "execution_count": 84,
   "metadata": {},
   "outputs": [
    {
     "name": "stdout",
     "output_type": "stream",
     "text": [
      "download: s3://elasticblast-boratyng/eb-1456_2/batch_001-blastx-RNAvirome.S2.RDRP.out.gz to ./batch_001-blastx-RNAvirome.S2.RDRP.out.gz\n",
      "download: s3://elasticblast-boratyng/eb-1456_2/batch_003-blastx-RNAvirome.S2.RDRP.out.gz to ./batch_003-blastx-RNAvirome.S2.RDRP.out.gz\n",
      "download: s3://elasticblast-boratyng/eb-1456_2/batch_007-blastx-RNAvirome.S2.RDRP.out.gz to ./batch_007-blastx-RNAvirome.S2.RDRP.out.gz\n",
      "download: s3://elasticblast-boratyng/eb-1456_2/batch_000-blastx-RNAvirome.S2.RDRP.out.gz to ./batch_000-blastx-RNAvirome.S2.RDRP.out.gz\n",
      "download: s3://elasticblast-boratyng/eb-1456_2/batch_004-blastx-RNAvirome.S2.RDRP.out.gz to ./batch_004-blastx-RNAvirome.S2.RDRP.out.gz\n",
      "download: s3://elasticblast-boratyng/eb-1456_2/batch_005-blastx-RNAvirome.S2.RDRP.out.gz to ./batch_005-blastx-RNAvirome.S2.RDRP.out.gz\n",
      "download: s3://elasticblast-boratyng/eb-1456_2/batch_006-blastx-RNAvirome.S2.RDRP.out.gz to ./batch_006-blastx-RNAvirome.S2.RDRP.out.gz\n",
      "download: s3://elasticblast-boratyng/eb-1456_2/batch_002-blastx-RNAvirome.S2.RDRP.out.gz to ./batch_002-blastx-RNAvirome.S2.RDRP.out.gz\n",
      "download: s3://elasticblast-boratyng/eb-1456_2/batch_009-blastx-RNAvirome.S2.RDRP.out.gz to ./batch_009-blastx-RNAvirome.S2.RDRP.out.gz\n",
      "download: s3://elasticblast-boratyng/eb-1456_2/batch_008-blastx-RNAvirome.S2.RDRP.out.gz to ./batch_008-blastx-RNAvirome.S2.RDRP.out.gz\n",
      "download: s3://elasticblast-boratyng/eb-1456_2/batch_010-blastx-RNAvirome.S2.RDRP.out.gz to ./batch_010-blastx-RNAvirome.S2.RDRP.out.gz\n"
     ]
    }
   ],
   "source": [
    "!aws s3 cp s3://{RESULTS_BUCKET}/ . --exclude \"*\" --include \"*.out.gz\" --recursive"
   ]
  },
  {
   "cell_type": "markdown",
   "metadata": {},
   "source": [
    "## Uncompress and merge results\n",
    "Elastic-BLAST produces compressed result files for each batch of queries. We are going to uncompress them, merge them into one file: `results.tab`, and show its first few lines."
   ]
  },
  {
   "cell_type": "code",
   "execution_count": 85,
   "metadata": {},
   "outputs": [
    {
     "name": "stdout",
     "output_type": "stream",
     "text": [
      "JAIJZY010000003.1\tRDRP_YP_009337412.1\t85.294\t136\t20\t0\t15\t422\t328\t463\t6.90e-80\t250\t35\tViruses\tHubei virga-like virus 2\n",
      "JAIJZY010000003.1\tRDRP_YP_009337423.1\t63.704\t135\t49\t0\t18\t422\t330\t464\t4.30e-55\t186\t35\tViruses\tHubei virga-like virus 1\n",
      "JAIJZY010000003.1\tRDRP_YP_009337659.1\t38.686\t137\t83\t1\t15\t425\t323\t458\t1.98e-22\t96.3\t35\tViruses\tHubei virga-like virus 21\n",
      "JAIJZY010000003.1\tRDRP_AMO03256.1\t40.602\t133\t76\t2\t30\t422\t331\t462\t2.57e-22\t95.9\t34\tViruses\tBofa virus\n",
      "JAIJZY010000003.1\tRDRP_AMO03220.1\t37.121\t132\t83\t0\t15\t410\t327\t458\t7.97e-22\t94.4\t34\tViruses\tBlackford virus\n",
      "JAIJZY010000003.1\tRDRP_YP_009336476.1\t39.098\t133\t79\t2\t24\t422\t324\t454\t2.00e-20\t90.1\t34\tViruses\tAdelphocoris suturalis virus\n",
      "JAIJZY010000003.1\tRDRP_YP_009333310.1\t39.683\t126\t74\t2\t12\t386\t328\t452\t4.42e-20\t89.4\t32\tViruses\tXingshan nematode virus 1\n",
      "JAIJZY010000003.1\tRDRP_AMO03254.1\t39.200\t125\t75\t1\t24\t398\t328\t451\t2.23e-19\t87.0\t32\tViruses\tBoutonnet virus\n",
      "JAIJZY010000003.1\tRDRP_AGM16551.1\t39.474\t114\t68\t1\t30\t371\t326\t438\t3.38e-19\t86.7\t30\tViruses\tCitrus leprosis virus cytoplasmic type 2\n",
      "JAIJZY010000003.1\tRDRP_YP_009337819.1\t35.115\t131\t83\t2\t30\t422\t331\t459\t1.06e-18\t85.1\t34\tViruses\tHubei virga-like virus 12\n"
     ]
    }
   ],
   "source": [
    "%%bash\n",
    "gzip -d -f batch_*.gz\n",
    "cat batch_*.out | grep -v ^# >results.tab\n",
    "head results.tab"
   ]
  },
  {
   "cell_type": "markdown",
   "metadata": {},
   "source": [
    "## Analyze results\n",
    "\n",
    "### Column names\n",
    "\n",
    "We are extracting column names from a comment line of output format 7. Below are column names for BLAST tabular format."
   ]
  },
  {
   "cell_type": "code",
   "execution_count": 20,
   "metadata": {},
   "outputs": [
    {
     "data": {
      "text/plain": [
       "['query acc.ver',\n",
       " 'subject acc.ver',\n",
       " '% identity',\n",
       " 'alignment length',\n",
       " 'mismatches',\n",
       " 'gap opens',\n",
       " 'q. start',\n",
       " 'q. end',\n",
       " 's. start',\n",
       " 's. end',\n",
       " 'evalue',\n",
       " 'bit score',\n",
       " '% query coverage per subject',\n",
       " 'subject super kingdoms',\n",
       " 'subject sci name']"
      ]
     },
     "execution_count": 20,
     "metadata": {},
     "output_type": "execute_result"
    }
   ],
   "source": [
    "with open('batch_000-blastx-RNAvirome.S2.RDRP.out') as f:\n",
    "    for line in f:\n",
    "        if 'Fields:' not in line:\n",
    "            continue\n",
    "        columns = [col.strip() for col in line[9:].rstrip().split(',')]\n",
    "        break\n",
    "columns"
   ]
  },
  {
   "cell_type": "markdown",
   "metadata": {},
   "source": [
    "### Load results into a DataFrame\n",
    "Load search results into a pandas dataframe and show a snippet of results in tabular format."
   ]
  },
  {
   "cell_type": "code",
   "execution_count": 92,
   "metadata": {},
   "outputs": [
    {
     "data": {
      "text/html": [
       "<div>\n",
       "<style scoped>\n",
       "    .dataframe tbody tr th:only-of-type {\n",
       "        vertical-align: middle;\n",
       "    }\n",
       "\n",
       "    .dataframe tbody tr th {\n",
       "        vertical-align: top;\n",
       "    }\n",
       "\n",
       "    .dataframe thead th {\n",
       "        text-align: right;\n",
       "    }\n",
       "</style>\n",
       "<table border=\"1\" class=\"dataframe\">\n",
       "  <thead>\n",
       "    <tr style=\"text-align: right;\">\n",
       "      <th></th>\n",
       "      <th>query acc.ver</th>\n",
       "      <th>subject acc.ver</th>\n",
       "      <th>% identity</th>\n",
       "      <th>alignment length</th>\n",
       "      <th>mismatches</th>\n",
       "      <th>gap opens</th>\n",
       "      <th>q. start</th>\n",
       "      <th>q. end</th>\n",
       "      <th>s. start</th>\n",
       "      <th>s. end</th>\n",
       "      <th>evalue</th>\n",
       "      <th>bit score</th>\n",
       "      <th>% query coverage per subject</th>\n",
       "      <th>subject super kingdoms</th>\n",
       "      <th>subject sci name</th>\n",
       "    </tr>\n",
       "  </thead>\n",
       "  <tbody>\n",
       "    <tr>\n",
       "      <th>0</th>\n",
       "      <td>JAIJZY010000003.1</td>\n",
       "      <td>RDRP_YP_009337412.1</td>\n",
       "      <td>85.294</td>\n",
       "      <td>136</td>\n",
       "      <td>20</td>\n",
       "      <td>0</td>\n",
       "      <td>15</td>\n",
       "      <td>422</td>\n",
       "      <td>328</td>\n",
       "      <td>463</td>\n",
       "      <td>6.900000e-80</td>\n",
       "      <td>250.0</td>\n",
       "      <td>35</td>\n",
       "      <td>Viruses</td>\n",
       "      <td>Hubei virga-like virus 2</td>\n",
       "    </tr>\n",
       "    <tr>\n",
       "      <th>1</th>\n",
       "      <td>JAIJZY010000003.1</td>\n",
       "      <td>RDRP_YP_009337423.1</td>\n",
       "      <td>63.704</td>\n",
       "      <td>135</td>\n",
       "      <td>49</td>\n",
       "      <td>0</td>\n",
       "      <td>18</td>\n",
       "      <td>422</td>\n",
       "      <td>330</td>\n",
       "      <td>464</td>\n",
       "      <td>4.300000e-55</td>\n",
       "      <td>186.0</td>\n",
       "      <td>35</td>\n",
       "      <td>Viruses</td>\n",
       "      <td>Hubei virga-like virus 1</td>\n",
       "    </tr>\n",
       "    <tr>\n",
       "      <th>2</th>\n",
       "      <td>JAIJZY010000003.1</td>\n",
       "      <td>RDRP_YP_009337659.1</td>\n",
       "      <td>38.686</td>\n",
       "      <td>137</td>\n",
       "      <td>83</td>\n",
       "      <td>1</td>\n",
       "      <td>15</td>\n",
       "      <td>425</td>\n",
       "      <td>323</td>\n",
       "      <td>458</td>\n",
       "      <td>1.980000e-22</td>\n",
       "      <td>96.3</td>\n",
       "      <td>35</td>\n",
       "      <td>Viruses</td>\n",
       "      <td>Hubei virga-like virus 21</td>\n",
       "    </tr>\n",
       "    <tr>\n",
       "      <th>3</th>\n",
       "      <td>JAIJZY010000003.1</td>\n",
       "      <td>RDRP_AMO03256.1</td>\n",
       "      <td>40.602</td>\n",
       "      <td>133</td>\n",
       "      <td>76</td>\n",
       "      <td>2</td>\n",
       "      <td>30</td>\n",
       "      <td>422</td>\n",
       "      <td>331</td>\n",
       "      <td>462</td>\n",
       "      <td>2.570000e-22</td>\n",
       "      <td>95.9</td>\n",
       "      <td>34</td>\n",
       "      <td>Viruses</td>\n",
       "      <td>Bofa virus</td>\n",
       "    </tr>\n",
       "    <tr>\n",
       "      <th>4</th>\n",
       "      <td>JAIJZY010000003.1</td>\n",
       "      <td>RDRP_AMO03220.1</td>\n",
       "      <td>37.121</td>\n",
       "      <td>132</td>\n",
       "      <td>83</td>\n",
       "      <td>0</td>\n",
       "      <td>15</td>\n",
       "      <td>410</td>\n",
       "      <td>327</td>\n",
       "      <td>458</td>\n",
       "      <td>7.970000e-22</td>\n",
       "      <td>94.4</td>\n",
       "      <td>34</td>\n",
       "      <td>Viruses</td>\n",
       "      <td>Blackford virus</td>\n",
       "    </tr>\n",
       "  </tbody>\n",
       "</table>\n",
       "</div>"
      ],
      "text/plain": [
       "       query acc.ver      subject acc.ver  % identity  alignment length  \\\n",
       "0  JAIJZY010000003.1  RDRP_YP_009337412.1      85.294               136   \n",
       "1  JAIJZY010000003.1  RDRP_YP_009337423.1      63.704               135   \n",
       "2  JAIJZY010000003.1  RDRP_YP_009337659.1      38.686               137   \n",
       "3  JAIJZY010000003.1      RDRP_AMO03256.1      40.602               133   \n",
       "4  JAIJZY010000003.1      RDRP_AMO03220.1      37.121               132   \n",
       "\n",
       "   mismatches  gap opens  q. start  q. end  s. start  s. end        evalue  \\\n",
       "0          20          0        15     422       328     463  6.900000e-80   \n",
       "1          49          0        18     422       330     464  4.300000e-55   \n",
       "2          83          1        15     425       323     458  1.980000e-22   \n",
       "3          76          2        30     422       331     462  2.570000e-22   \n",
       "4          83          0        15     410       327     458  7.970000e-22   \n",
       "\n",
       "   bit score  % query coverage per subject subject super kingdoms  \\\n",
       "0      250.0                            35                Viruses   \n",
       "1      186.0                            35                Viruses   \n",
       "2       96.3                            35                Viruses   \n",
       "3       95.9                            34                Viruses   \n",
       "4       94.4                            34                Viruses   \n",
       "\n",
       "            subject sci name  \n",
       "0   Hubei virga-like virus 2  \n",
       "1   Hubei virga-like virus 1  \n",
       "2  Hubei virga-like virus 21  \n",
       "3                 Bofa virus  \n",
       "4            Blackford virus  "
      ]
     },
     "execution_count": 92,
     "metadata": {},
     "output_type": "execute_result"
    }
   ],
   "source": [
    "hits = pd.read_csv('results.tab', sep='\\t', names=columns)\n",
    "hits.head()"
   ]
  },
  {
   "cell_type": "markdown",
   "metadata": {},
   "source": [
    "### A simple summary\n",
    "\n",
    "Below is the number of queries that matched a database sequence and number of database sequences that matched a query."
   ]
  },
  {
   "cell_type": "code",
   "execution_count": 93,
   "metadata": {},
   "outputs": [
    {
     "data": {
      "text/plain": [
       "query acc.ver       789\n",
       "subject acc.ver    2643\n",
       "dtype: int64"
      ]
     },
     "execution_count": 93,
     "metadata": {},
     "output_type": "execute_result"
    }
   ],
   "source": [
    "hits[['query acc.ver', 'subject acc.ver']].nunique()"
   ]
  },
  {
   "cell_type": "markdown",
   "metadata": {},
   "source": [
    "### Best hit for each query\n",
    "\n",
    "Let us select the alignments with lowest _E-value_ for each query sequence, and show the data for five alignments with the best _E-values_."
   ]
  },
  {
   "cell_type": "code",
   "execution_count": 94,
   "metadata": {},
   "outputs": [
    {
     "data": {
      "text/html": [
       "<div>\n",
       "<style scoped>\n",
       "    .dataframe tbody tr th:only-of-type {\n",
       "        vertical-align: middle;\n",
       "    }\n",
       "\n",
       "    .dataframe tbody tr th {\n",
       "        vertical-align: top;\n",
       "    }\n",
       "\n",
       "    .dataframe thead th {\n",
       "        text-align: right;\n",
       "    }\n",
       "</style>\n",
       "<table border=\"1\" class=\"dataframe\">\n",
       "  <thead>\n",
       "    <tr style=\"text-align: right;\">\n",
       "      <th></th>\n",
       "      <th>query acc.ver</th>\n",
       "      <th>subject acc.ver</th>\n",
       "      <th>% identity</th>\n",
       "      <th>alignment length</th>\n",
       "      <th>mismatches</th>\n",
       "      <th>gap opens</th>\n",
       "      <th>q. start</th>\n",
       "      <th>q. end</th>\n",
       "      <th>s. start</th>\n",
       "      <th>s. end</th>\n",
       "      <th>evalue</th>\n",
       "      <th>bit score</th>\n",
       "      <th>% query coverage per subject</th>\n",
       "      <th>subject super kingdoms</th>\n",
       "      <th>subject sci name</th>\n",
       "    </tr>\n",
       "  </thead>\n",
       "  <tbody>\n",
       "    <tr>\n",
       "      <th>50808</th>\n",
       "      <td>JAIJZY010001163.1</td>\n",
       "      <td>RDRP_ALJ30354.1</td>\n",
       "      <td>50.375</td>\n",
       "      <td>534</td>\n",
       "      <td>263</td>\n",
       "      <td>1</td>\n",
       "      <td>3</td>\n",
       "      <td>1604</td>\n",
       "      <td>53</td>\n",
       "      <td>584</td>\n",
       "      <td>0.0</td>\n",
       "      <td>563.0</td>\n",
       "      <td>89</td>\n",
       "      <td>Viruses</td>\n",
       "      <td>Eelpout rhabdovirus</td>\n",
       "    </tr>\n",
       "    <tr>\n",
       "      <th>57591</th>\n",
       "      <td>JAIJZY010001285.1</td>\n",
       "      <td>RDRP_YP_008767243.1</td>\n",
       "      <td>50.342</td>\n",
       "      <td>584</td>\n",
       "      <td>287</td>\n",
       "      <td>1</td>\n",
       "      <td>2368</td>\n",
       "      <td>617</td>\n",
       "      <td>3</td>\n",
       "      <td>583</td>\n",
       "      <td>0.0</td>\n",
       "      <td>642.0</td>\n",
       "      <td>40</td>\n",
       "      <td>Viruses</td>\n",
       "      <td>American bat vesiculovirus TFFN-2013</td>\n",
       "    </tr>\n",
       "    <tr>\n",
       "      <th>57592</th>\n",
       "      <td>JAIJZY010001285.1</td>\n",
       "      <td>RDRP_YP_009336837.1</td>\n",
       "      <td>52.641</td>\n",
       "      <td>587</td>\n",
       "      <td>274</td>\n",
       "      <td>3</td>\n",
       "      <td>2368</td>\n",
       "      <td>617</td>\n",
       "      <td>3</td>\n",
       "      <td>588</td>\n",
       "      <td>0.0</td>\n",
       "      <td>642.0</td>\n",
       "      <td>40</td>\n",
       "      <td>Viruses</td>\n",
       "      <td>Hubei lepidoptera virus 2</td>\n",
       "    </tr>\n",
       "    <tr>\n",
       "      <th>57593</th>\n",
       "      <td>JAIJZY010001285.1</td>\n",
       "      <td>RDRP_AMJ52368.1</td>\n",
       "      <td>51.453</td>\n",
       "      <td>585</td>\n",
       "      <td>283</td>\n",
       "      <td>1</td>\n",
       "      <td>2368</td>\n",
       "      <td>617</td>\n",
       "      <td>3</td>\n",
       "      <td>587</td>\n",
       "      <td>0.0</td>\n",
       "      <td>641.0</td>\n",
       "      <td>40</td>\n",
       "      <td>Viruses</td>\n",
       "      <td>Riverside virus 1</td>\n",
       "    </tr>\n",
       "    <tr>\n",
       "      <th>57594</th>\n",
       "      <td>JAIJZY010001285.1</td>\n",
       "      <td>RDRP_YP_007641381.1</td>\n",
       "      <td>50.000</td>\n",
       "      <td>584</td>\n",
       "      <td>292</td>\n",
       "      <td>0</td>\n",
       "      <td>2368</td>\n",
       "      <td>617</td>\n",
       "      <td>3</td>\n",
       "      <td>586</td>\n",
       "      <td>0.0</td>\n",
       "      <td>641.0</td>\n",
       "      <td>40</td>\n",
       "      <td>Viruses</td>\n",
       "      <td>Chandipura virus</td>\n",
       "    </tr>\n",
       "  </tbody>\n",
       "</table>\n",
       "</div>"
      ],
      "text/plain": [
       "           query acc.ver      subject acc.ver  % identity  alignment length  \\\n",
       "50808  JAIJZY010001163.1      RDRP_ALJ30354.1      50.375               534   \n",
       "57591  JAIJZY010001285.1  RDRP_YP_008767243.1      50.342               584   \n",
       "57592  JAIJZY010001285.1  RDRP_YP_009336837.1      52.641               587   \n",
       "57593  JAIJZY010001285.1      RDRP_AMJ52368.1      51.453               585   \n",
       "57594  JAIJZY010001285.1  RDRP_YP_007641381.1      50.000               584   \n",
       "\n",
       "       mismatches  gap opens  q. start  q. end  s. start  s. end  evalue  \\\n",
       "50808         263          1         3    1604        53     584     0.0   \n",
       "57591         287          1      2368     617         3     583     0.0   \n",
       "57592         274          3      2368     617         3     588     0.0   \n",
       "57593         283          1      2368     617         3     587     0.0   \n",
       "57594         292          0      2368     617         3     586     0.0   \n",
       "\n",
       "       bit score  % query coverage per subject subject super kingdoms  \\\n",
       "50808      563.0                            89                Viruses   \n",
       "57591      642.0                            40                Viruses   \n",
       "57592      642.0                            40                Viruses   \n",
       "57593      641.0                            40                Viruses   \n",
       "57594      641.0                            40                Viruses   \n",
       "\n",
       "                           subject sci name  \n",
       "50808                   Eelpout rhabdovirus  \n",
       "57591  American bat vesiculovirus TFFN-2013  \n",
       "57592             Hubei lepidoptera virus 2  \n",
       "57593                     Riverside virus 1  \n",
       "57594                      Chandipura virus  "
      ]
     },
     "execution_count": 94,
     "metadata": {},
     "output_type": "execute_result"
    }
   ],
   "source": [
    "idx = (hits.groupby(by='query acc.ver')['evalue'].transform(min) == hits['evalue'])\n",
    "hits = hits[idx]\n",
    "hits.sort_values(by='evalue').head()"
   ]
  },
  {
   "cell_type": "markdown",
   "metadata": {},
   "source": [
    "### Super kingdoms\n",
    "\n",
    "Let's look at super kingdoms of database sequences matched by query sequences. As expected, these are all viruses."
   ]
  },
  {
   "cell_type": "code",
   "execution_count": 95,
   "metadata": {},
   "outputs": [
    {
     "data": {
      "text/plain": [
       "Viruses    789\n",
       "Name: subject super kingdoms, dtype: int64"
      ]
     },
     "execution_count": 95,
     "metadata": {},
     "output_type": "execute_result"
    }
   ],
   "source": [
    "hits[['query acc.ver', 'subject super kingdoms']].drop_duplicates()['subject super kingdoms'].value_counts()"
   ]
  },
  {
   "cell_type": "markdown",
   "metadata": {},
   "source": [
    "### Species\n",
    "\n",
    "Now, let's take a look at species. Scientific names for five database sequences that matched the most queries are listed below along with numbers of query sequences they match."
   ]
  },
  {
   "cell_type": "code",
   "execution_count": 96,
   "metadata": {},
   "outputs": [
    {
     "data": {
      "text/plain": [
       "Culex tritaeniorhynchus rhabdovirus    189\n",
       "Wenzhou sobemo-like virus 4            142\n",
       "Hubei virga-like virus 2               126\n",
       "Hubei mosquito virus 2                 125\n",
       "Bunyaviridae environmental sample       92\n",
       "Name: subject sci name, dtype: int64"
      ]
     },
     "execution_count": 96,
     "metadata": {},
     "output_type": "execute_result"
    }
   ],
   "source": [
    "counts = hits[['query acc.ver', 'subject sci name']].drop_duplicates()['subject sci name'].value_counts()\n",
    "counts.head()"
   ]
  },
  {
   "cell_type": "markdown",
   "metadata": {},
   "source": [
    "Below is a histogram for top 30 species that matched the most query sequences. "
   ]
  },
  {
   "cell_type": "code",
   "execution_count": 97,
   "metadata": {},
   "outputs": [
    {
     "data": {
      "image/png": "[encoded data removed]",
      "text/plain": [
       "<Figure size 1008x720 with 1 Axes>"
      ]
     },
     "metadata": {
      "needs_background": "light"
     },
     "output_type": "display_data"
    }
   ],
   "source": [
    "top_counts = counts[:30]\n",
    "plt.figure(figsize=(14, 10))\n",
    "ax = sns.barplot(y=top_counts.index, x=top_counts)\n",
    "#ax.set_xticks(range(0, max(top_counts + 1), 10))\n",
    "ax.set_xlabel('Number of query matches')\n",
    "ax.set_ylabel(top_counts.name)\n",
    "plt.grid();"
   ]
  },
  {
   "cell_type": "markdown",
   "metadata": {},
   "source": [
    "## Clean up cloud resources\n",
    "### Delete Elastic-BLAST queue and compute environment in AWS\n",
    "If you did not enable Elastic-BLAST auto-shutdown feature, the AWS Batch queue and compute environment have to be deleted manually."
   ]
  },
  {
   "cell_type": "code",
   "execution_count": null,
   "metadata": {},
   "outputs": [],
   "source": [
    "!elastic-blast delete --cfg {conf_file}"
   ]
  },
  {
   "cell_type": "markdown",
   "metadata": {},
   "source": [
    "### Delete cloud bucket\n",
    "If you do not need BLAST search results stored in the cloud, delete the cloud bucket so that you are not charged for it."
   ]
  },
  {
   "cell_type": "code",
   "execution_count": null,
   "metadata": {},
   "outputs": [],
   "source": [
    "!aws s3 rb s3://{RESULTS_BUCKET} --force"
   ]
  },
  {
   "cell_type": "markdown",
   "metadata": {},
   "source": [
    "## Optional: Delete elastic-blast-janitor role\n",
    "Deleting this role will disable Elastic-BLAST auto-shutdown feature. You are not paying for this role. It can be reused in future Elastic-BLAST searches."
   ]
  },
  {
   "cell_type": "code",
   "execution_count": null,
   "metadata": {},
   "outputs": [],
   "source": [
    "!sed -i~ -e '/export PATH/d' $(which aws-delete-elastic-blast-janitor-role.sh)\n",
    "!aws-delete-elastic-blast-janitor-role.sh"
   ]
  }
 ],
 "metadata": {
  "kernelspec": {
   "display_name": "Python 3 (ipykernel)",
   "language": "python",
   "name": "python3"
  },
  "language_info": {
   "codemirror_mode": {
    "name": "ipython",
    "version": 3
   },
   "file_extension": ".py",
   "mimetype": "text/x-python",
   "name": "python",
   "nbconvert_exporter": "python",
   "pygments_lexer": "ipython3",
   "version": "3.8.12"
  }
 },
 "nbformat": 4,
 "nbformat_minor": 4
}
